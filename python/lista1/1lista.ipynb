{
 "cells": [
  {
   "cell_type": "markdown",
   "metadata": {},
   "source": [
    "# Lista 1\n",
    "\n",
    "## Kurs wybranego jÄzyka programowania (Python)\n",
    "\n",
    "Wszystkie rozwiÄ",
    "zania proszÄ wpisaÄ w tym notatniku poniĹźej treĹci zadaĹ. Zadania z `*` to zadania dodatkowe."
   ]
  },
  {
   "cell_type": "markdown",
   "metadata": {},
   "source": [
    "## Zadanie 1 _(5pt)_\n",
    "\n",
    "Napisz funkcjÄ, ktĂłry wyĹwietla trĂłjkÄ",
    "t Pascala o zadanej wysokoĹci\n",
    "```\n",
    "                1\n",
    "              1   1\n",
    "            1   2   1\n",
    "          1   3   3   1\n",
    "        1   4   6   4   1\n",
    "      .....................\n",
    "```"
   ]
  },
  {
   "cell_type": "code",
   "execution_count": 154,
   "metadata": {},
   "outputs": [
    {
     "name": "stdout",
     "output_type": "stream",
     "text": [
      "[1]\n",
      "[1, 1]\n",
      "[1, 2, 1]\n",
      "[1, 3, 3, 1]\n",
      "[1, 4, 6, 4, 1]\n",
      "[1, 5, 10, 10, 5, 1]\n"
     ]
    }
   ],
   "source": [
    "def pascal_triangle(n):\n",
    "   row_numbers = [1]\n",
    "   zero = [0]\n",
    "   for x in range(n):\n",
    "      print(row_numbers)\n",
    "      row_numbers=[left + right for left, right in zip(row_numbers+zero, zero+row_numbers)]\n",
    "\n",
    "\n",
    "pascal_triangle(6)"
   ]
  },
  {
   "cell_type": "markdown",
   "metadata": {},
   "source": [
    "## Zadanie 2 _(5pt)_\n",
    "\n",
    "Napisz funkcjÄ `primes(n)` zwracajÄ",
    "ca listÄ liczb pierwszych nie wiÄkszych niĹź $n$ np.\n",
    "\n",
    "```\n",
    "In [ ]:   primes(6)\n",
    "Out [ ]: [2, 3, 5]\n",
    "```"
   ]
  },
  {
   "cell_type": "code",
   "execution_count": 47,
   "metadata": {},
   "outputs": [
    {
     "name": "stdout",
     "output_type": "stream",
     "text": [
      "[2, 3, 5, 7, 11, 13, 17, 19, 23, 29, 31, 37, 41, 43, 47, 53, 59, 61, 67, 71, 73, 79, 83, 89, 97]\n"
     ]
    }
   ],
   "source": [
    "import math\n",
    "\n",
    "def primes(n):\n",
    "    numbers = []\n",
    "    for number in range(2,n+1):\n",
    "        if all(number % i != 0 for i in range(2,int(math.sqrt(number))+1)):\n",
    "            numbers.append(number)\n",
    "    print(numbers)\n",
    "            \n",
    "primes(100)"
   ]
  },
  {
   "cell_type": "markdown",
   "metadata": {},
   "source": [
    "## Zadanie 3 _(5pt)_\n",
    "\n",
    "Napisz funkcje, ktĂłra usuwa wszystkie powtarzajÄ",
    "ce siÄ elementy z listy (tak, Ĺźe kaĹźdy element wystÄpuje tylko raz) np. z listy `[1,1,2,2,2,3,3,5,5,5,4,4,4,0]` dostajemy `[1,2,3,5,4,0]`."
   ]
  },
  {
   "cell_type": "code",
   "execution_count": 49,
   "metadata": {},
   "outputs": [
    {
     "name": "stdout",
     "output_type": "stream",
     "text": [
      "[1, 2, 3, 5, 4, 0]\n"
     ]
    }
   ],
   "source": [
    "def remove_duplicates(l):\n",
    "    l = list(dict.fromkeys(l))\n",
    "    return l\n",
    "    \n",
    "l = [1,1,2,2,2,3,3,5,5,5,4,4,4,0]\n",
    "l = remove_duplicates(l)\n",
    "print(l)"
   ]
  },
  {
   "cell_type": "markdown",
   "metadata": {},
   "source": [
    "## Zadanie 4 _(10pt)_\n",
    "\n",
    "Napisz funkcjÄ `prime_factors(n)`, ktĂłra rozkĹada $n$ na czynniki pierwsze i jako wynik wraca listÄ par $[(p_1,\\alpha_1), (p_2,\\alpha_2), \\ldots, (p_k, \\alpha_k)]$ takÄ",
    ", Ĺźe $p_1^{\\alpha_1}p_2^{\\alpha_2}\\ldots p_k^{\\alpha_k}$.\n"
   ]
  },
  {
   "cell_type": "code",
   "execution_count": 76,
   "metadata": {},
   "outputs": [
    {
     "name": "stdout",
     "output_type": "stream",
     "text": [
      "[(2, 3), (3, 4), (19, 1)]\n"
     ]
    }
   ],
   "source": [
    "import math\n",
    "\n",
    "def primes(n):\n",
    "    numbers = []\n",
    "    for number in range(2,n+1):\n",
    "        if all(number % i != 0 for i in range(2,int(math.sqrt(number))+1)):\n",
    "            numbers.append(number)\n",
    "    return numbers\n",
    "\n",
    "def prime_factors(n):\n",
    "    factors = []\n",
    "    powers = []\n",
    "    prime_numbers = primes(n)\n",
    "    \n",
    "    for prime in prime_numbers:\n",
    "        if(n % prime == 0):\n",
    "            factors.append(prime)\n",
    "            powers.append(0)\n",
    "        while n % prime == 0:\n",
    "            n = n/prime\n",
    "            powers[-1]+=1\n",
    "    result = list(zip(factors,powers))\n",
    "    return result\n",
    "\n",
    "result = prime_factors(12312)\n",
    "print(result)\n",
    "    "
   ]
  },
  {
   "cell_type": "markdown",
   "metadata": {},
   "source": [
    "## Zadanie 5 _(10pt)_\n",
    "\n",
    "Napisz funkcjÄ `fraczero(n)` liczÄ",
    "cÄ",
    " silnie $n!$ dla $n$ od $0$ do $10000$ oraz jako wynik wraca liczbÄ zer na koĹcu $n!$."
   ]
  },
  {
   "cell_type": "code",
   "execution_count": 97,
   "metadata": {},
   "outputs": [
    {
     "name": "stdout",
     "output_type": "stream",
     "text": [
      "2499\n"
     ]
    }
   ],
   "source": [
    "import math\n",
    "\n",
    "def factorial_zeros(n):\n",
    "    i = 5\n",
    "    counter = 0\n",
    "    \n",
    "    while i <= n:\n",
    "        counter += n / i\n",
    "        i *= 5\n",
    "    return math.floor(counter)\n",
    "        \n",
    "    \n",
    "result = factorial_zeros(10000)\n",
    "print(result)\n",
    "    "
   ]
  },
  {
   "cell_type": "markdown",
   "metadata": {},
   "source": [
    "## Zadanie 6 _(10pt)_\n",
    "\n",
    "Napisz program, ktĂłry generuje liczbÄ $20$ liczb losowych (rozkĹad jednostajny) od $1$ do $100$\n",
    "* WyĹwietl listÄ wygenerowanych liczb\n",
    "* WyĹwietl ĹredniÄ",
    "\n",
    "* WyĹwietl najwiÄkszÄ",
    " i najmniejszÄ",
    " wartoĹÄ\n",
    "* WyĹwietl drugÄ",
    " najwiÄkszÄ",
    " i drugÄ",
    " najmniejszÄ",
    " wartoĹÄ na liĹcie\n",
    "* WyĹwietl ile jest liczb parzystych na liĹcie\n",
    " "
   ]
  },
  {
   "cell_type": "code",
   "execution_count": 124,
   "metadata": {},
   "outputs": [
    {
     "name": "stdout",
     "output_type": "stream",
     "text": [
      "[98, 33, 40, 96, 45, 30, 24, 54, 60, 64, 99, 5, 31, 54, 92, 80, 45, 56, 26, 72]\n",
      "srednia: 55.2\n",
      "najwieksza: 99\n",
      "najmniejsza: 5\n",
      "druga najwieksza: 98\n",
      "druga najmniejsza: 24\n",
      "liczba parzystych: 14\n"
     ]
    }
   ],
   "source": [
    "import random\n",
    "import statistics\n",
    "\n",
    "def random_generator(n):\n",
    "    return [random.randint(1, 100) for x in range(n)]\n",
    "\n",
    "def count_even_numbers(l):\n",
    "    counter = 0\n",
    "    for number in l:\n",
    "        if number%2==0:\n",
    "            counter+=1\n",
    "    return counter\n",
    "\n",
    "def print_statistics(numbers):\n",
    "    print(numbers)\n",
    "    print('srednia:', statistics.mean(numbers))\n",
    "    print('najwieksza:', max(numbers))\n",
    "    print('najmniejsza:', min(numbers))\n",
    "    temp = set(numbers)\n",
    "    temp.remove(max(temp))\n",
    "    temp.remove(min(temp))\n",
    "    print('druga najwieksza:', max(temp))\n",
    "    print('druga najmniejsza:', min(temp))\n",
    "    print('liczba parzystych:', count_even_numbers(numbers)) \n",
    "    \n",
    "numbers = random_generator(20)\n",
    "print_statistics(numbers)"
   ]
  },
  {
   "cell_type": "markdown",
   "metadata": {},
   "source": [
    "## Zadanie 7 _(10pt)_\n",
    "\n",
    "ZaĹĂłĹźmy, Ĺźe mamy nastÄpujÄ",
    "cÄ",
    " listÄ: `L = ['aababacaa', 'cabaabcca', 'aaabbcbacb', 'acababbaab', ...]` wygenerowanÄ",
    " losowo tzn. lista zawiera losowe ciÄ",
    "gi znakĂłw o zadanej dĹugoĹci z liter `'a'`, `'b'` i `'c'`. Takie wzorce wystÄpujÄ",
    " w wielu miejscach np. sekwencje DNA. UĹźytkownik zawiera swĂłj (wzorzec) ciÄ",
    "g znakĂłw z literami i pustymi miejscami oznaczonymi przez `'*'` np. `\"a**a******\"`. Wykorzystaj sĹownik z kluczami zawierajÄ",
    "cymi indeksy znakĂłw rĂłĹźnych od `'*'` i wartoĹciami liter z wzorca. Napisz program, ktĂłry znajduje wszystkie sekwencje z listy, ktĂłre pasuje do podanego wzorca."
   ]
  },
  {
   "cell_type": "code",
   "execution_count": 151,
   "metadata": {},
   "outputs": [
    {
     "name": "stdout",
     "output_type": "stream",
     "text": [
      "['cbbaabcccc', 'cbbcbaacbc', 'aaaaacaccc', 'bcabcacbac', 'cabcacaaab', 'caabcacbac', 'acbabbaacc', 'cbcbaacbbc', 'cbacaaccba', 'bccabbacbb']\n",
      "wzorzec:  {0: 'a', 3: 'a'}\n",
      "pasujace do wzorca: ['aaaaacaccc', 'acbabbaacc']\n"
     ]
    }
   ],
   "source": [
    "import random\n",
    "\n",
    "def gen_sequence(length):\n",
    "    sequence = ''\n",
    "    letters = ['a','b','c']\n",
    "    alphabet_size = len(letters)\n",
    "    while length > 0:\n",
    "        index = random.randint(0, alphabet_size-1)\n",
    "        sequence += letters[index]\n",
    "        length-=1\n",
    "    \n",
    "    return sequence\n",
    "        \n",
    "def gen_list(n, length):\n",
    "    L = []\n",
    "    while n > 0:\n",
    "        L.append(gen_sequence(length))\n",
    "        n-=1\n",
    "        \n",
    "    return L\n",
    "\n",
    "def check_pattern(seq, d):\n",
    "    for key in d.keys():\n",
    "        if seq[key] != d[key]:\n",
    "            return False\n",
    "    return True\n",
    "\n",
    "def get_matches(L,d):\n",
    "    matched = []\n",
    "    for seq in L:\n",
    "        if check_pattern(seq,d):\n",
    "            matched.append(seq)\n",
    "    return matched\n",
    "    \n",
    "\n",
    "L = gen_list(10, 10)\n",
    "print(L)\n",
    "\n",
    "my_pattern = 'a*********'\n",
    "\n",
    "dictionary = {\n",
    "    \"0\": 'a',\n",
    "    \"3\": 'a'\n",
    "}\n",
    "\n",
    "dictionary = {int(k):v for k,v in dictionary.items()}\n",
    "print('wzorzec: ',dictionary)\n",
    "\n",
    "print('pasujace do wzorca:',get_matches(L,dictionary))\n",
    "\n",
    "    "
   ]
  },
  {
   "cell_type": "markdown",
   "metadata": {},
   "source": [
    "## Zadanie 8 _(10pt)_\n",
    "\n",
    "Napisz program, ktĂłry konwerteruje liczby rzymskie na liczby arabskie. Do zapisu liczb rzymskich uĹźywa\n",
    "siÄ 7 liter: `I=1`, `V=5`, `X=10`, `L=50`, `C=100`, `D=500`, `M=1000`. Opis algorytmu zamiany z i na system rzymski moĹźna znaleĹşÄ np. [tutaj](http://www.algorytm.org/algorytmy-arytmetyczne/zamiana-z-i-na-system-rzymski.html)"
   ]
  },
  {
   "cell_type": "code",
   "execution_count": 172,
   "metadata": {},
   "outputs": [
    {
     "name": "stdout",
     "output_type": "stream",
     "text": [
      "2020 - 3 - 8\n",
      "16 : 18\n"
     ]
    }
   ],
   "source": [
    "def roman_to_arabic(n):\n",
    "    result = 0\n",
    "    for counter, value in enumerate(n):\n",
    "        if counter + 1 == len(n):\n",
    "            result += roman[value]\n",
    "        elif roman[value] >= roman[n[counter+1]]:\n",
    "            result += roman[value]\n",
    "        else:\n",
    "            result -= roman[value]\n",
    "    return result\n",
    "\n",
    "roman = {'I':1, 'V':5, 'X':10, 'L':50, 'C':100, 'D':500, 'M':1000}\n",
    "\n",
    "print(roman_to_arabic(\"MMXX\"),'-',roman_to_arabic(\"III\"),'-',roman_to_arabic(\"VIII\"))\n",
    "print(roman_to_arabic(\"XVI\"),':',roman_to_arabic(\"XVIII\"))"
   ]
  },
  {
   "cell_type": "markdown",
   "metadata": {},
   "source": [
    "## Zadanie 9* _(5pt)_\n",
    "\n",
    "Napisz program kalkulator, ktĂłry pobiera wprowadzone wartoĹci oraz funkcje z klawiatury nastÄpnie podaje wynik. W przypadku bĹÄdnych danych zgĹasza bĹÄ",
    "d.\n",
    "\n",
    "PrzykĹadowa sesja:\n",
    "```\n",
    "    Kalkulator\n",
    "    [1]: 2+5*10\n",
    "        52\n",
    "    [2]: sin(0.5)+cos(0.3)\n",
    "        1.434762027729809\n",
    "    [3]: 2^100\n",
    "        1267650600228229401496703205376\n",
    "```\n",
    "\n",
    "PrzykĹadowy kod pobierania danych od uĹźytkownika:\n",
    "\n",
    "```\n",
    "    x = input('Podaj x = ')\n",
    "```"
   ]
  },
  {
   "cell_type": "code",
   "execution_count": null,
   "metadata": {},
   "outputs": [],
   "source": []
  },
  {
   "cell_type": "markdown",
   "metadata": {},
   "source": [
    "\n",
    "## Zadanie 10* _(10pt)_\n",
    "\n",
    "Napisz program, ktĂłry rysuje na ekranie w trybie znakowym wykres funkcji zmiennej $x$. WskazĂłwka: utwĂłrz  ,,tablicÄ dwuwymiarowÄ",
    "'' o wymiarach 80x24 i narysuj wykres w tej tablicy. NastÄpnie wynik wyĹwietl na ekranie.\n",
    "\n",
    "```\n",
    "        Podaj funkcje f(x) = sin(x)\n",
    "        Podaj poczÄ",
    "tek przedziaĹu a = -pi\n",
    "        Podaj koniec przedziaĹu b = pi\n",
    "                                                |\n",
    "                                                |\n",
    "                                                |              ***********\n",
    "                                                |           ***           ***\n",
    "                                                |         **                 **\n",
    "                                                |        *                     *\n",
    "                                                |      **                       **\n",
    "                                                |     *                           *\n",
    "                                                |   **                             **\n",
    "                                                |  *                                 *\n",
    "                                                | *                                   *\n",
    "                                                |*                                     *\n",
    "        ----------------------------------------|---------------------------------------\n",
    "          *                                   * |\n",
    "           *                                 *  |\n",
    "            **                             **   |\n",
    "              *                           *     |\n",
    "               **                       **      |\n",
    "                 *                     *        |\n",
    "                  **                 **         |\n",
    "                    ***           ***           |\n",
    "                       ***** *****              |\n",
    "                            *                   |\n",
    "                                                |\n",
    "```"
   ]
  },
  {
   "cell_type": "code",
   "execution_count": null,
   "metadata": {},
   "outputs": [],
   "source": []
  }
 ],
 "metadata": {
  "kernelspec": {
   "display_name": "Python 3",
   "language": "python",
   "name": "python3"
  },
  "language_info": {
   "codemirror_mode": {
    "name": "ipython",
    "version": 3
   },
   "file_extension": ".py",
   "mimetype": "text/x-python",
   "name": "python",
   "nbconvert_exporter": "python",
   "pygments_lexer": "ipython3",
   "version": "3.8.2"
  }
 },
 "nbformat": 4,
 "nbformat_minor": 2
}
